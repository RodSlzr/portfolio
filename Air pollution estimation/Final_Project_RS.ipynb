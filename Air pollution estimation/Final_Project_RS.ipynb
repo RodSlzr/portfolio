{
 "cells": [
  {
   "cell_type": "markdown",
   "metadata": {},
   "source": [
    "# Final Project: Air Pollution Forecast using a Random Forest Regressor\n",
    "## with PySpark on an EMR Cluster\n",
    "### by Rodrigo Salazar\n",
    "\n",
    "\n",
    "\n",
    "Note: \n",
    "\n",
    "This Jupyter notebook is meant to be run on an EMR cluste, using a Pyspark kernel.\n",
    "\n",
    "\n",
    "\n",
    "Data: \n",
    "\n",
    "-[AWS OpenData - OpenAQ](https://registry.opendata.aws/openaq/)\n",
    "\n",
    "-[OpenAQ Portal](https://explore.openaq.org/)\n",
    "\n",
    "-[OpenAQ Documentation](https://docs.openaq.org/docs/accessing-openaq-archive-data#bucket-structure)\n"
   ]
  },
  {
   "cell_type": "markdown",
   "metadata": {},
   "source": [
    "# Set up"
   ]
  },
  {
   "cell_type": "code",
   "execution_count": 1,
   "metadata": {},
   "outputs": [
    {
     "data": {
      "text/html": [
       "Current session configs: <tt>{'conf': {'spark.pyspark.python': 'python3', 'spark.pyspark.virtualenv.enabled': 'true', 'spark.pyspark.virtualenv.type': 'native', 'spark.pyspark.virtualenv.bin.path': '/usr/bin/virtualenv'}, 'proxyUser': 'jovyan', 'kind': 'pyspark'}</tt><br>"
      ],
      "text/plain": [
       "<IPython.core.display.HTML object>"
      ]
     },
     "metadata": {},
     "output_type": "display_data"
    },
    {
     "data": {
      "text/html": [
       "No active sessions."
      ],
      "text/plain": [
       "<IPython.core.display.HTML object>"
      ]
     },
     "metadata": {},
     "output_type": "display_data"
    }
   ],
   "source": [
    "%%configure -f\n",
    "{\n",
    "    \"conf\": {\n",
    "        \"spark.pyspark.python\": \"python3\",\n",
    "        \"spark.pyspark.virtualenv.enabled\": \"true\",\n",
    "        \"spark.pyspark.virtualenv.type\":\"native\",\n",
    "        \"spark.pyspark.virtualenv.bin.path\":\"/usr/bin/virtualenv\"\n",
    "    }\n",
    "}"
   ]
  },
  {
   "cell_type": "code",
   "execution_count": 2,
   "metadata": {},
   "outputs": [
    {
     "name": "stdout",
     "output_type": "stream",
     "text": [
      "Starting Spark application\n"
     ]
    },
    {
     "data": {
      "text/html": [
       "<table>\n",
       "<tr><th>ID</th><th>YARN Application ID</th><th>Kind</th><th>State</th><th>Spark UI</th><th>Driver log</th><th>Current session?</th></tr><tr><td>1</td><td>application_1685142953653_0003</td><td>pyspark</td><td>idle</td><td><a target=\"_blank\" href=\"http://ip-172-31-23-8.ec2.internal:20888/proxy/application_1685142953653_0003/\">Link</a></td><td><a target=\"_blank\" href=\"http://ip-172-31-30-67.ec2.internal:8042/node/containerlogs/container_1685142953653_0003_01_000001/livy\">Link</a></td><td>✔</td></tr></table>"
      ],
      "text/plain": [
       "<IPython.core.display.HTML object>"
      ]
     },
     "metadata": {},
     "output_type": "display_data"
    },
    {
     "data": {
      "application/vnd.jupyter.widget-view+json": {
       "model_id": "",
       "version_major": 2,
       "version_minor": 0
      },
      "text/plain": [
       "FloatProgress(value=0.0, bar_style='info', description='Progress:', layout=Layout(height='25px', width='50%'),…"
      ]
     },
     "metadata": {},
     "output_type": "display_data"
    },
    {
     "name": "stdout",
     "output_type": "stream",
     "text": [
      "SparkSession available as 'spark'.\n"
     ]
    },
    {
     "data": {
      "application/vnd.jupyter.widget-view+json": {
       "model_id": "",
       "version_major": 2,
       "version_minor": 0
      },
      "text/plain": [
       "FloatProgress(value=0.0, bar_style='info', description='Progress:', layout=Layout(height='25px', width='50%'),…"
      ]
     },
     "metadata": {},
     "output_type": "display_data"
    },
    {
     "name": "stdout",
     "output_type": "stream",
     "text": [
      "Collecting pandas==1.0.5\n",
      "  Using cached https://files.pythonhosted.org/packages/af/f3/683bf2547a3eaeec15b39cef86f61e921b3b187f250fcd2b5c5fb4386369/pandas-1.0.5-cp37-cp37m-manylinux1_x86_64.whl\n",
      "Requirement already satisfied: numpy>=1.13.3 in /usr/local/lib64/python3.7/site-packages (from pandas==1.0.5)\n",
      "Collecting python-dateutil>=2.6.1 (from pandas==1.0.5)\n",
      "  Using cached https://files.pythonhosted.org/packages/36/7a/87837f39d0296e723bb9b62bbb257d0355c7f6128853c78955f57342a56d/python_dateutil-2.8.2-py2.py3-none-any.whl\n",
      "Requirement already satisfied: pytz>=2017.2 in /usr/local/lib/python3.7/site-packages (from pandas==1.0.5)\n",
      "Requirement already satisfied: six>=1.5 in /usr/local/lib/python3.7/site-packages (from python-dateutil>=2.6.1->pandas==1.0.5)\n",
      "Installing collected packages: python-dateutil, pandas\n",
      "Successfully installed pandas-1.0.5 python-dateutil-2.8.2\n",
      "\n",
      "Collecting scipy==1.4.1\n",
      "  Using cached https://files.pythonhosted.org/packages/dd/82/c1fe128f3526b128cfd185580ba40d01371c5d299fcf7f77968e22dfcc2e/scipy-1.4.1-cp37-cp37m-manylinux1_x86_64.whl\n",
      "Requirement already satisfied: numpy>=1.13.3 in /usr/local/lib64/python3.7/site-packages (from scipy==1.4.1)\n",
      "Installing collected packages: scipy\n",
      "Successfully installed scipy-1.4.1\n",
      "\n",
      "Collecting matplotlib==3.2.1\n",
      "  Using cached https://files.pythonhosted.org/packages/b2/c2/71fcf957710f3ba1f09088b35776a799ba7dd95f7c2b195ec800933b276b/matplotlib-3.2.1-cp37-cp37m-manylinux1_x86_64.whl\n",
      "Collecting pyparsing!=2.0.4,!=2.1.2,!=2.1.6,>=2.0.1 (from matplotlib==3.2.1)\n",
      "  Using cached https://files.pythonhosted.org/packages/6c/10/a7d0fa5baea8fe7b50f448ab742f26f52b80bfca85ac2be9d35cdd9a3246/pyparsing-3.0.9-py3-none-any.whl\n",
      "Requirement already satisfied: python-dateutil>=2.1 in /mnt/tmp/1685153641658-0/lib/python3.7/site-packages (from matplotlib==3.2.1)\n",
      "Requirement already satisfied: numpy>=1.11 in /usr/local/lib64/python3.7/site-packages (from matplotlib==3.2.1)\n",
      "Collecting cycler>=0.10 (from matplotlib==3.2.1)\n",
      "  Using cached https://files.pythonhosted.org/packages/5c/f9/695d6bedebd747e5eb0fe8fad57b72fdf25411273a39791cde838d5a8f51/cycler-0.11.0-py3-none-any.whl\n",
      "Collecting kiwisolver>=1.0.1 (from matplotlib==3.2.1)\n",
      "  Using cached https://files.pythonhosted.org/packages/ab/8f/8dbe2d4efc4c0b08ec67d6efb7cc31fbfd688c80afad85f65980633b0d37/kiwisolver-1.4.4-cp37-cp37m-manylinux_2_5_x86_64.manylinux1_x86_64.whl\n",
      "Requirement already satisfied: six>=1.5 in /usr/local/lib/python3.7/site-packages (from python-dateutil>=2.1->matplotlib==3.2.1)\n",
      "Collecting typing-extensions; python_version < \"3.8\" (from kiwisolver>=1.0.1->matplotlib==3.2.1)\n",
      "  Using cached https://files.pythonhosted.org/packages/38/60/300ad6f93adca578bf05d5f6cd1d854b7d140bebe2f9829561aa9977d9f3/typing_extensions-4.6.2-py3-none-any.whl\n",
      "Installing collected packages: pyparsing, cycler, typing-extensions, kiwisolver, matplotlib\n",
      "Successfully installed cycler-0.11.0 kiwisolver-1.4.4 matplotlib-3.2.1 pyparsing-3.0.9 typing-extensions-4.6.2\n",
      "\n",
      "Collecting seaborn==0.10.1\n",
      "  Using cached https://files.pythonhosted.org/packages/c7/e6/54aaaafd0b87f51dfba92ba73da94151aa3bc179e5fe88fc5dfb3038e860/seaborn-0.10.1-py3-none-any.whl\n",
      "Requirement already satisfied: numpy>=1.13.3 in /usr/local/lib64/python3.7/site-packages (from seaborn==0.10.1)\n",
      "Requirement already satisfied: scipy>=1.0.1 in /mnt/tmp/1685153641658-0/lib/python3.7/site-packages (from seaborn==0.10.1)\n",
      "Requirement already satisfied: matplotlib>=2.1.2 in /mnt/tmp/1685153641658-0/lib/python3.7/site-packages (from seaborn==0.10.1)\n",
      "Requirement already satisfied: pandas>=0.22.0 in /mnt/tmp/1685153641658-0/lib/python3.7/site-packages (from seaborn==0.10.1)\n",
      "Requirement already satisfied: pyparsing!=2.0.4,!=2.1.2,!=2.1.6,>=2.0.1 in /mnt/tmp/1685153641658-0/lib/python3.7/site-packages (from matplotlib>=2.1.2->seaborn==0.10.1)\n",
      "Requirement already satisfied: python-dateutil>=2.1 in /mnt/tmp/1685153641658-0/lib/python3.7/site-packages (from matplotlib>=2.1.2->seaborn==0.10.1)\n",
      "Requirement already satisfied: cycler>=0.10 in /mnt/tmp/1685153641658-0/lib/python3.7/site-packages (from matplotlib>=2.1.2->seaborn==0.10.1)\n",
      "Requirement already satisfied: kiwisolver>=1.0.1 in /mnt/tmp/1685153641658-0/lib/python3.7/site-packages (from matplotlib>=2.1.2->seaborn==0.10.1)\n",
      "Requirement already satisfied: pytz>=2017.2 in /usr/local/lib/python3.7/site-packages (from pandas>=0.22.0->seaborn==0.10.1)\n",
      "Requirement already satisfied: six>=1.5 in /usr/local/lib/python3.7/site-packages (from python-dateutil>=2.1->matplotlib>=2.1.2->seaborn==0.10.1)\n",
      "Requirement already satisfied: typing-extensions; python_version < \"3.8\" in /mnt/tmp/1685153641658-0/lib/python3.7/site-packages (from kiwisolver>=1.0.1->matplotlib>=2.1.2->seaborn==0.10.1)\n",
      "Installing collected packages: seaborn\n",
      "Successfully installed seaborn-0.10.1"
     ]
    }
   ],
   "source": [
    "sc.install_pypi_package(\"pandas==1.0.5\")\n",
    "sc.install_pypi_package(\"scipy==1.4.1\")\n",
    "sc.install_pypi_package(\"matplotlib==3.2.1\")\n",
    "sc.install_pypi_package(\"seaborn==0.10.1\")"
   ]
  },
  {
   "cell_type": "code",
   "execution_count": 3,
   "metadata": {},
   "outputs": [
    {
     "data": {
      "application/vnd.jupyter.widget-view+json": {
       "model_id": "",
       "version_major": 2,
       "version_minor": 0
      },
      "text/plain": [
       "FloatProgress(value=0.0, bar_style='info', description='Progress:', layout=Layout(height='25px', width='50%'),…"
      ]
     },
     "metadata": {},
     "output_type": "display_data"
    }
   ],
   "source": [
    "# Libraries we'll need\n",
    "from pyspark.sql.functions import col, when\n",
    "from pyspark.sql.functions import unix_timestamp\n",
    "import numpy as np\n",
    "import pyspark.sql.functions as F\n",
    "import matplotlib.pyplot as plt\n",
    "import seaborn as sns\n",
    "import matplotlib.pyplot as plt\n"
   ]
  },
  {
   "cell_type": "code",
   "execution_count": 4,
   "metadata": {},
   "outputs": [
    {
     "data": {
      "application/vnd.jupyter.widget-view+json": {
       "model_id": "",
       "version_major": 2,
       "version_minor": 0
      },
      "text/plain": [
       "FloatProgress(value=0.0, bar_style='info', description='Progress:', layout=Layout(height='25px', width='50%'),…"
      ]
     },
     "metadata": {},
     "output_type": "display_data"
    }
   ],
   "source": [
    "# Define the list of countries and years\n",
    "countries = ['mx'] #'gr'#'mx'\n",
    "years = ['2023'] #2023\n",
    "month = ['03', '04', '05'] #2023\n",
    "\n",
    "# Create the file path pattern with the countries and years\n",
    "file_path = \"s3://openaq-data-archive/records/csv.gz/provider=purpleair/country={{{}}}/locationid=*/year={{{}}}/month={{{}}}/*.csv.gz\"\n",
    "\n",
    "# Format the file path with the list of countries and years\n",
    "formatted_path = file_path.format(','.join(countries), ','.join(years),  ','.join(month))\n",
    "\n",
    "# Read data into a DataFrame with header option\n",
    "data = spark.read.csv(formatted_path, header=True)"
   ]
  },
  {
   "cell_type": "markdown",
   "metadata": {},
   "source": [
    "# Data exploration"
   ]
  },
  {
   "cell_type": "markdown",
   "metadata": {},
   "source": [
    "Now that we have our data loaded in a DataFrame, let's take a look at its structure and contents. "
   ]
  },
  {
   "cell_type": "code",
   "execution_count": 5,
   "metadata": {},
   "outputs": [
    {
     "data": {
      "application/vnd.jupyter.widget-view+json": {
       "model_id": "",
       "version_major": 2,
       "version_minor": 0
      },
      "text/plain": [
       "FloatProgress(value=0.0, bar_style='info', description='Progress:', layout=Layout(height='25px', width='50%'),…"
      ]
     },
     "metadata": {},
     "output_type": "display_data"
    },
    {
     "name": "stdout",
     "output_type": "stream",
     "text": [
      "Total Columns: 9\n",
      "Total Rows: 18983022\n",
      "root\n",
      " |-- location_id: string (nullable = true)\n",
      " |-- sensors_id: string (nullable = true)\n",
      " |-- location: string (nullable = true)\n",
      " |-- datetime: string (nullable = true)\n",
      " |-- lat: string (nullable = true)\n",
      " |-- lon: string (nullable = true)\n",
      " |-- parameter: string (nullable = true)\n",
      " |-- units: string (nullable = true)\n",
      " |-- value: string (nullable = true)"
     ]
    }
   ],
   "source": [
    "print('Total Columns: %d' % len(data.dtypes))\n",
    "print('Total Rows: %d' % data.count())\n",
    "data.printSchema()"
   ]
  },
  {
   "cell_type": "markdown",
   "metadata": {},
   "source": [
    "All the data are string, so we have to transform some of them, like 'datetime', 'value', 'lat' and 'lon'. Also, I have to ccreate a column 'category' that classifies the pm5 values into air quality categories according to the health risk they represent."
   ]
  },
  {
   "cell_type": "code",
   "execution_count": 6,
   "metadata": {},
   "outputs": [
    {
     "data": {
      "application/vnd.jupyter.widget-view+json": {
       "model_id": "",
       "version_major": 2,
       "version_minor": 0
      },
      "text/plain": [
       "FloatProgress(value=0.0, bar_style='info', description='Progress:', layout=Layout(height='25px', width='50%'),…"
      ]
     },
     "metadata": {},
     "output_type": "display_data"
    }
   ],
   "source": [
    "# Convert 'value' column to numeric type\n",
    "data = data.withColumn('value', data['value'].cast('float'))\n",
    "data = data.withColumn('lat', data['lat'].cast('float'))\n",
    "data = data.withColumn('lon', data['lon'].cast('float'))\n",
    "data = data.withColumn(\"timestamp\", unix_timestamp(col(\"datetime\"), \"yyyy-MM-dd'T'HH:mm:ssXXX\"))\n",
    "\n",
    "# Create a new column based on 'parameter' and classify PM2.5 values into categories\n",
    "data = data.withColumn('category', when((col('parameter') == 'pm25') & (col('value') < 12), 'Good')\n",
    "                                   .when((col('parameter') == 'pm25') & (col('value').between(12, 35)), 'Moderate')\n",
    "                                   .when((col('parameter') == 'pm25') & (col('value') > 35), 'Unhealthy')\n",
    "                                   .otherwise(None))"
   ]
  },
  {
   "cell_type": "markdown",
   "metadata": {},
   "source": [
    "As we are only interested in the pm25 pollution parameter, we will proceed to filter the data."
   ]
  },
  {
   "cell_type": "code",
   "execution_count": 7,
   "metadata": {},
   "outputs": [
    {
     "data": {
      "application/vnd.jupyter.widget-view+json": {
       "model_id": "",
       "version_major": 2,
       "version_minor": 0
      },
      "text/plain": [
       "FloatProgress(value=0.0, bar_style='info', description='Progress:', layout=Layout(height='25px', width='50%'),…"
      ]
     },
     "metadata": {},
     "output_type": "display_data"
    }
   ],
   "source": [
    "# Filter the data to show only rows where 'category' is not null\n",
    "filtered_data = data.filter(col('category').isNotNull())\n",
    "\n",
    "# Filter out rows with values higher than 100 in the 'value' column\n",
    "filtered_data = filtered_data.filter(filtered_data['value'] <= 1000)"
   ]
  },
  {
   "cell_type": "code",
   "execution_count": 8,
   "metadata": {},
   "outputs": [
    {
     "data": {
      "application/vnd.jupyter.widget-view+json": {
       "model_id": "",
       "version_major": 2,
       "version_minor": 0
      },
      "text/plain": [
       "FloatProgress(value=0.0, bar_style='info', description='Progress:', layout=Layout(height='25px', width='50%'),…"
      ]
     },
     "metadata": {},
     "output_type": "display_data"
    },
    {
     "name": "stdout",
     "output_type": "stream",
     "text": [
      "+-----+---------+-----+---------+----------+----------+---------+\n",
      "|value|parameter|units|      lat|       lon| timestamp| category|\n",
      "+-----+---------+-----+---------+----------+----------+---------+\n",
      "| 27.1|     pm25|µg/m³|32.498634|-116.90548|1680332721| Moderate|\n",
      "| 25.4|     pm25|µg/m³|32.498634|-116.90548|1680332839| Moderate|\n",
      "| 25.5|     pm25|µg/m³|32.498634|-116.90548|1680332995| Moderate|\n",
      "| 24.3|     pm25|µg/m³|32.498634|-116.90548|1680333084| Moderate|\n",
      "| 33.5|     pm25|µg/m³|32.498634|-116.90548|1680333323| Moderate|\n",
      "| 36.3|     pm25|µg/m³|32.498634|-116.90548|1680333444|Unhealthy|\n",
      "| 28.9|     pm25|µg/m³|32.498634|-116.90548|1680333571| Moderate|\n",
      "| 29.3|     pm25|µg/m³|32.498634|-116.90548|1680333807| Moderate|\n",
      "| 27.2|     pm25|µg/m³|32.498634|-116.90548|1680333924| Moderate|\n",
      "| 34.6|     pm25|µg/m³|32.498634|-116.90548|1680334050| Moderate|\n",
      "| 37.1|     pm25|µg/m³|32.498634|-116.90548|1680334163|Unhealthy|\n",
      "| 41.3|     pm25|µg/m³|32.498634|-116.90548|1680334284|Unhealthy|\n",
      "| 38.5|     pm25|µg/m³|32.498634|-116.90548|1680334403|Unhealthy|\n",
      "| 35.8|     pm25|µg/m³|32.498634|-116.90548|1680334527|Unhealthy|\n",
      "| 35.5|     pm25|µg/m³|32.498634|-116.90548|1680334643|Unhealthy|\n",
      "| 35.7|     pm25|µg/m³|32.498634|-116.90548|1680334764|Unhealthy|\n",
      "| 41.7|     pm25|µg/m³|32.498634|-116.90548|1680334883|Unhealthy|\n",
      "| 43.5|     pm25|µg/m³|32.498634|-116.90548|1680335003|Unhealthy|\n",
      "| 43.0|     pm25|µg/m³|32.498634|-116.90548|1680335123|Unhealthy|\n",
      "| 41.2|     pm25|µg/m³|32.498634|-116.90548|1680335243|Unhealthy|\n",
      "+-----+---------+-----+---------+----------+----------+---------+\n",
      "only showing top 20 rows"
     ]
    }
   ],
   "source": [
    "filtered_data[['value', 'parameter', 'units', 'lat', 'lon', 'timestamp', 'category']].show()"
   ]
  },
  {
   "cell_type": "markdown",
   "metadata": {},
   "source": [
    "Let's take a look at how our pm25 values are distributed"
   ]
  },
  {
   "cell_type": "code",
   "execution_count": 9,
   "metadata": {},
   "outputs": [
    {
     "data": {
      "application/vnd.jupyter.widget-view+json": {
       "model_id": "",
       "version_major": 2,
       "version_minor": 0
      },
      "text/plain": [
       "FloatProgress(value=0.0, bar_style='info', description='Progress:', layout=Layout(height='25px', width='50%'),…"
      ]
     },
     "metadata": {},
     "output_type": "display_data"
    },
    {
     "data": {
      "image/png": "[encoded data removed]",
      "text/plain": [
       "<IPython.core.display.Image object>"
      ]
     },
     "metadata": {},
     "output_type": "display_data"
    }
   ],
   "source": [
    "# Filter for 'pm25' in the 'parameter' column\n",
    "filtered_data_pm25 = filtered_data.filter((filtered_data['parameter'] == 'pm25') & (filtered_data['value']>0) & (filtered_data['value']<100))\n",
    "\n",
    "# Select the 'value' column\n",
    "value_column = filtered_data_pm25.select('value')\n",
    "\n",
    "# Convert the 'value' column to a Pandas Series for plotting\n",
    "values = value_column.toPandas()['value']\n",
    "\n",
    "# Plot the distribution of values\n",
    "plt.close()\n",
    "plt.hist(values, bins=20)\n",
    "plt.xlabel('Value')\n",
    "plt.ylabel('Frequency')\n",
    "plt.title('Distribution of PM2.5 Values')\n",
    "%matplot plt\n"
   ]
  },
  {
   "cell_type": "markdown",
   "metadata": {},
   "source": [
    "We can see that most of the data is concentrated in the moderated and good classification."
   ]
  },
  {
   "cell_type": "markdown",
   "metadata": {},
   "source": [
    "For our classification task we have to see if our data is balanced"
   ]
  },
  {
   "cell_type": "code",
   "execution_count": 10,
   "metadata": {},
   "outputs": [
    {
     "data": {
      "application/vnd.jupyter.widget-view+json": {
       "model_id": "",
       "version_major": 2,
       "version_minor": 0
      },
      "text/plain": [
       "FloatProgress(value=0.0, bar_style='info', description='Progress:', layout=Layout(height='25px', width='50%'),…"
      ]
     },
     "metadata": {},
     "output_type": "display_data"
    },
    {
     "name": "stdout",
     "output_type": "stream",
     "text": [
      "+---------+-------+\n",
      "| category|  count|\n",
      "+---------+-------+\n",
      "| Moderate|1238029|\n",
      "|     Good|1254152|\n",
      "|Unhealthy| 636945|\n",
      "+---------+-------+"
     ]
    }
   ],
   "source": [
    "# Take a look at how many good and bad reviews we have, respectively\n",
    "cat = (filtered_data.groupBy('category')\n",
    "     .count()\n",
    ")\n",
    "cat.show()"
   ]
  },
  {
   "cell_type": "markdown",
   "metadata": {},
   "source": [
    "As it is not, we will do some samplying."
   ]
  },
  {
   "cell_type": "code",
   "execution_count": 11,
   "metadata": {},
   "outputs": [
    {
     "data": {
      "application/vnd.jupyter.widget-view+json": {
       "model_id": "",
       "version_major": 2,
       "version_minor": 0
      },
      "text/plain": [
       "FloatProgress(value=0.0, bar_style='info', description='Progress:', layout=Layout(height='25px', width='50%'),…"
      ]
     },
     "metadata": {},
     "output_type": "display_data"
    }
   ],
   "source": [
    "fraction = 0.01\n",
    "df_cat = cat.toPandas()\n",
    "sum_counts = df_cat['count'].sum()\n",
    "df_cat['proportion'] = df_cat['count'] / sum_counts\n",
    "df_cat['inverse_prop'] = (1 / df_cat['proportion'])*fraction\n",
    "df_cat['final_prop'] = df_cat['inverse_prop'] * (1/3)\n",
    "fractions = df_cat[['category', 'final_prop']]\n",
    "fractions = fractions.set_index('category')['final_prop'].to_dict()\n",
    "sampled_data = filtered_data.sampleBy(col='category', fractions=fractions)"
   ]
  },
  {
   "cell_type": "code",
   "execution_count": 12,
   "metadata": {},
   "outputs": [
    {
     "data": {
      "application/vnd.jupyter.widget-view+json": {
       "model_id": "",
       "version_major": 2,
       "version_minor": 0
      },
      "text/plain": [
       "FloatProgress(value=0.0, bar_style='info', description='Progress:', layout=Layout(height='25px', width='50%'),…"
      ]
     },
     "metadata": {},
     "output_type": "display_data"
    },
    {
     "name": "stdout",
     "output_type": "stream",
     "text": [
      "+---------+-----+\n",
      "| category|count|\n",
      "+---------+-----+\n",
      "| Moderate|10280|\n",
      "|     Good|10396|\n",
      "|Unhealthy|10473|\n",
      "+---------+-----+"
     ]
    }
   ],
   "source": [
    "(sampled_data.groupBy('category')\n",
    "     .count()\n",
    "     .show()\n",
    ")"
   ]
  },
  {
   "cell_type": "markdown",
   "metadata": {},
   "source": [
    "The features we will be using are latitude, longitude and timestamp. Let's see in a graph if the location could be useful for our task."
   ]
  },
  {
   "cell_type": "code",
   "execution_count": 13,
   "metadata": {},
   "outputs": [
    {
     "data": {
      "application/vnd.jupyter.widget-view+json": {
       "model_id": "",
       "version_major": 2,
       "version_minor": 0
      },
      "text/plain": [
       "FloatProgress(value=0.0, bar_style='info', description='Progress:', layout=Layout(height='25px', width='50%'),…"
      ]
     },
     "metadata": {},
     "output_type": "display_data"
    }
   ],
   "source": [
    "# Calculate the mean of 'value' grouped by 'location_id'\n",
    "mean_data = sampled_data.groupBy('location_id').agg(F.mean('value').alias('mean_value'))\n",
    "\n",
    "# Recalculate the 'category' based on the mean values\n",
    "mean_data = mean_data.withColumn('category', F.when(mean_data['mean_value'] < 12, 'Good').when((mean_data['mean_value'] >= 12) & (mean_data['mean_value'] <= 35), 'Moderate').otherwise('Unhealthy'))\n",
    "\n",
    "# Join the mean_data with the original data to get the 'lat' and 'lon' columns\n",
    "joined_data = mean_data.join(sampled_data[['lat','lon','location_id']], 'location_id', 'left').dropDuplicates(['location_id'])\n",
    "\n",
    "# Convert the grouped DataFrame to Pandas for plotting\n",
    "pandas_df = joined_data.toPandas()\n"
   ]
  },
  {
   "cell_type": "code",
   "execution_count": 14,
   "metadata": {
    "scrolled": false
   },
   "outputs": [
    {
     "data": {
      "application/vnd.jupyter.widget-view+json": {
       "model_id": "",
       "version_major": 2,
       "version_minor": 0
      },
      "text/plain": [
       "FloatProgress(value=0.0, bar_style='info', description='Progress:', layout=Layout(height='25px', width='50%'),…"
      ]
     },
     "metadata": {},
     "output_type": "display_data"
    },
    {
     "data": {
      "image/png": "[encoded data removed]",
      "text/plain": [
       "<IPython.core.display.Image object>"
      ]
     },
     "metadata": {},
     "output_type": "display_data"
    }
   ],
   "source": [
    "# Plot the data using 'lat' as x-axis, 'lon' as y-axis, and colors based on 'category'\n",
    "plt.close()\n",
    "sns.set(style='darkgrid')\n",
    "\n",
    "# Convert 'category' column to numeric values\n",
    "category_mapping = {'Good': 0, 'Moderate': 1, 'Unhealthy': 2}\n",
    "pandas_df['category_num'] = pandas_df['category'].map(category_mapping)\n",
    "\n",
    "# Plot the scatter plot\n",
    "plt.scatter(pandas_df['lat'], pandas_df['lon'], alpha = 0.5, c=pandas_df['category_num'], cmap='YlOrRd')\n",
    "\n",
    "# Add colorbar\n",
    "cbar = plt.colorbar()\n",
    "cbar.set_ticks([0, 1, 2])\n",
    "cbar.set_ticklabels(['Good', 'Moderate', 'Unhealthy'])\n",
    "\n",
    "# Set the desired number of ticks on the latitude and longitude axes\n",
    "num_ticks = 5\n",
    "\n",
    "# Get the min and max values of latitude and longitude\n",
    "lat_min, lat_max = pandas_df['lat'].min(), pandas_df['lat'].max()\n",
    "lon_min, lon_max = pandas_df['lon'].min(), pandas_df['lon'].max()\n",
    "\n",
    "# Get the min and max values of latitude and longitude\n",
    "lat_min, lat_max = pandas_df['lat'].min(), pandas_df['lat'].max()\n",
    "lon_min, lon_max = pandas_df['lon'].min(), pandas_df['lon'].max()\n",
    "\n",
    "# Calculate tick values based on the range of latitude and longitude\n",
    "lat_ticks = np.linspace(lat_min, lat_max, num_ticks)\n",
    "lon_ticks = np.linspace(lon_min, lon_max, num_ticks)\n",
    "\n",
    "# Set the tick values for latitude and longitude axes\n",
    "plt.xticks(lat_ticks)\n",
    "plt.yticks(lon_ticks)\n",
    "\n",
    "plt.xlabel('Latitude')\n",
    "plt.ylabel('Longitude')\n",
    "plt.title('Air Pollution by Location')\n",
    "plt.colorbar(label='Category')\n",
    "\n",
    "%matplot plt\n"
   ]
  },
  {
   "cell_type": "markdown",
   "metadata": {},
   "source": [
    "Upon analyzing the plot, we observe that the air pollution classification is not perfectly separated across all locations. This finding challenges any preconceived notions we might have had, considering that air pollutants can travel and disperse over long distances. However, it is important to note that there are specific regions where we observe strikingly similar trends in air pollution classification.\n",
    "\n",
    "These regions with similar trends provide an intriguing opportunity for forecasting and prediction. The consistent patterns suggest that certain local factors or characteristics may influence air pollution levels, resulting in comparable classifications. By identifying and understanding these factors, we can potentially develop accurate forecasts for air pollution in these regions.\n",
    "\n",
    "It is worth noting that while the overall data does not exhibit clear separation, the presence of localized patterns is promising. This implies that our model or predictive approach could be effective in these specific regions. By leveraging these localized trends, we can enhance our forecasting capabilities and provide targeted interventions and measures to mitigate air pollution. "
   ]
  },
  {
   "cell_type": "markdown",
   "metadata": {},
   "source": [
    "# The Model"
   ]
  },
  {
   "cell_type": "markdown",
   "metadata": {},
   "source": [
    "We are going to use a Random Forest Regressor to make our forecast. In the Random Forest Regressor algorithm, multiple decision trees are trained on different subsets of the training data, and the final prediction is made by aggregating the predictions of all the individual trees. Each tree in the ensemble is built using a random subset of features and samples, which helps to reduce overfitting and improve the generalization ability of the model."
   ]
  },
  {
   "cell_type": "code",
   "execution_count": 15,
   "metadata": {},
   "outputs": [
    {
     "data": {
      "application/vnd.jupyter.widget-view+json": {
       "model_id": "",
       "version_major": 2,
       "version_minor": 0
      },
      "text/plain": [
       "FloatProgress(value=0.0, bar_style='info', description='Progress:', layout=Layout(height='25px', width='50%'),…"
      ]
     },
     "metadata": {},
     "output_type": "display_data"
    }
   ],
   "source": [
    "from pyspark.ml.feature import VectorAssembler\n",
    "\n",
    "# Select the relevant columns for training\n",
    "selected_columns = ['lat', 'lon','timestamp', 'value', 'category']\n",
    "selected_data = sampled_data.select(*selected_columns)\n",
    "\n",
    "# Create a VectorAssembler to combine the features into a single vector column\n",
    "assembler = VectorAssembler(inputCols=['lat', 'lon','timestamp'], outputCol='features')\n",
    "feature_data = assembler.transform(selected_data)\n",
    "\n",
    "# Split the data into training and test sets\n",
    "(train_data, test_data) = feature_data.randomSplit([0.7, 0.3])\n"
   ]
  },
  {
   "cell_type": "code",
   "execution_count": 16,
   "metadata": {},
   "outputs": [
    {
     "data": {
      "application/vnd.jupyter.widget-view+json": {
       "model_id": "",
       "version_major": 2,
       "version_minor": 0
      },
      "text/plain": [
       "FloatProgress(value=0.0, bar_style='info', description='Progress:', layout=Layout(height='25px', width='50%'),…"
      ]
     },
     "metadata": {},
     "output_type": "display_data"
    },
    {
     "name": "stdout",
     "output_type": "stream",
     "text": [
      "+-----+------------------+--------------------+\n",
      "|value|        prediction|            features|\n",
      "+-----+------------------+--------------------+\n",
      "| 43.4|31.935450106477862|[25.5955562591552...|\n",
      "| 40.0|31.935450106477862|[25.5955562591552...|\n",
      "| 36.6|31.935450106477862|[25.5955562591552...|\n",
      "| 42.4|31.935450106477862|[25.5955562591552...|\n",
      "| 28.7|31.935450106477862|[25.5955562591552...|\n",
      "| 35.3|31.935450106477862|[25.5955562591552...|\n",
      "| 40.4|31.935450106477862|[25.5955562591552...|\n",
      "| 34.7| 28.51706420051637|[25.7444057464599...|\n",
      "| 43.4| 28.51706420051637|[25.7444057464599...|\n",
      "| 54.3| 28.51706420051637|[25.7444057464599...|\n",
      "| 47.3| 28.51706420051637|[25.7444057464599...|\n",
      "| 29.3| 28.51706420051637|[25.7444057464599...|\n",
      "| 21.8| 28.51706420051637|[25.7444057464599...|\n",
      "|  7.3|23.368303358138405|[32.2879409790039...|\n",
      "|  5.1|23.368303358138405|[32.2879409790039...|\n",
      "| 19.2|23.368303358138405|[32.2879409790039...|\n",
      "| 47.9| 28.97621911581164|[32.4471893310546...|\n",
      "| 19.5| 28.97621911581164|[32.4471893310546...|\n",
      "| 17.3|23.028056728587476|[32.4471893310546...|\n",
      "|  9.7|23.028056728587476|[32.4471893310546...|\n",
      "+-----+------------------+--------------------+\n",
      "only showing top 20 rows"
     ]
    }
   ],
   "source": [
    "from pyspark.ml.regression import RandomForestRegressor\n",
    "\n",
    "# Create and fit the random forest regressor\n",
    "numTrees = 10  # Number of decision trees in the random forest\n",
    "rf = RandomForestRegressor(numTrees=numTrees, labelCol='value', featuresCol='features')\n",
    "\n",
    "model = rf.fit(train_data)\n",
    "\n",
    "# Make predictions on the test data\n",
    "predictions = model.transform(test_data)\n",
    "\n",
    "# Show the predicted values and the corresponding features\n",
    "predictions.select('value', 'prediction', 'features').show()\n"
   ]
  },
  {
   "cell_type": "code",
   "execution_count": 17,
   "metadata": {},
   "outputs": [
    {
     "data": {
      "application/vnd.jupyter.widget-view+json": {
       "model_id": "",
       "version_major": 2,
       "version_minor": 0
      },
      "text/plain": [
       "FloatProgress(value=0.0, bar_style='info', description='Progress:', layout=Layout(height='25px', width='50%'),…"
      ]
     },
     "metadata": {},
     "output_type": "display_data"
    }
   ],
   "source": [
    "# Calculate the 'category' based on the predictions\n",
    "predictions = predictions.withColumn('pred_category', F.when(predictions['prediction'] < 12, 0.0).when((predictions['prediction'] >= 12) & (predictions['prediction'] <= 35), 1.0).otherwise(2.0))\n",
    "predictions = predictions.withColumn('num_category', F.when(predictions['category'] == 'Good', 0.0).when(predictions['category'] == 'Moderate', 1.0).otherwise(2.0))\n"
   ]
  },
  {
   "cell_type": "code",
   "execution_count": 18,
   "metadata": {},
   "outputs": [
    {
     "data": {
      "application/vnd.jupyter.widget-view+json": {
       "model_id": "",
       "version_major": 2,
       "version_minor": 0
      },
      "text/plain": [
       "FloatProgress(value=0.0, bar_style='info', description='Progress:', layout=Layout(height='25px', width='50%'),…"
      ]
     },
     "metadata": {},
     "output_type": "display_data"
    },
    {
     "name": "stdout",
     "output_type": "stream",
     "text": [
      "Accuracy: 0.4777275661717237"
     ]
    }
   ],
   "source": [
    "from pyspark.ml.evaluation import MulticlassClassificationEvaluator\n",
    "\n",
    "# Create an evaluator for accuracy\n",
    "evaluator = MulticlassClassificationEvaluator(labelCol='num_category', predictionCol='pred_category', metricName='accuracy')\n",
    "\n",
    "# Calculate the accuracy\n",
    "accuracy = evaluator.evaluate(predictions)\n",
    "print(f\"Accuracy: {accuracy}\")"
   ]
  },
  {
   "cell_type": "code",
   "execution_count": 19,
   "metadata": {},
   "outputs": [
    {
     "data": {
      "application/vnd.jupyter.widget-view+json": {
       "model_id": "",
       "version_major": 2,
       "version_minor": 0
      },
      "text/plain": [
       "FloatProgress(value=0.0, bar_style='info', description='Progress:', layout=Layout(height='25px', width='50%'),…"
      ]
     },
     "metadata": {},
     "output_type": "display_data"
    },
    {
     "data": {
      "image/png": "[encoded data removed]",
      "text/plain": [
       "<IPython.core.display.Image object>"
      ]
     },
     "metadata": {},
     "output_type": "display_data"
    }
   ],
   "source": [
    "from pyspark.ml.evaluation import MulticlassClassificationEvaluator\n",
    "from pyspark.mllib.evaluation import MulticlassMetrics\n",
    "import matplotlib.pyplot as plt\n",
    "import numpy as np\n",
    "import itertools\n",
    "\n",
    "# Assuming you have a DataFrame `predictions` with columns 'label' and 'prediction'\n",
    "\n",
    "# Convert DataFrame to RDD for MulticlassMetrics\n",
    "predictionAndLabels = predictions.select('pred_category', 'num_category').rdd\n",
    "\n",
    "# Create MulticlassMetrics object\n",
    "metrics = MulticlassMetrics(predictionAndLabels)\n",
    "\n",
    "# Get the confusion matrix as a 2D numpy array\n",
    "confusion_matrix = metrics.confusionMatrix().toArray()\n",
    "\n",
    "# Plot the confusion matrix\n",
    "plt.close()\n",
    "\n",
    "plt.figure(figsize=(8, 6))\n",
    "plt.imshow(confusion_matrix, cmap='Blues', interpolation='nearest')\n",
    "plt.title('Confusion Matrix')\n",
    "plt.colorbar()\n",
    "\n",
    "# Set axis labels\n",
    "tick_marks = np.arange(len(confusion_matrix))\n",
    "plt.xticks(tick_marks, range(confusion_matrix.shape[1]))\n",
    "plt.yticks(tick_marks, range(confusion_matrix.shape[0]))\n",
    "\n",
    "# Set labels for each cell\n",
    "thresh = confusion_matrix.max() / 2.\n",
    "for i, j in itertools.product(range(confusion_matrix.shape[0]), range(confusion_matrix.shape[1])):\n",
    "    plt.text(j, i, int(confusion_matrix[i, j]),\n",
    "             horizontalalignment=\"center\",\n",
    "             color=\"white\" if confusion_matrix[i, j] > thresh else \"black\")\n",
    "\n",
    "plt.ylabel('True label')\n",
    "plt.xlabel('Predicted label')\n",
    "plt.tight_layout()\n",
    "%matplot plt"
   ]
  },
  {
   "cell_type": "markdown",
   "metadata": {},
   "source": [
    "Based on our analysis using random forest regression, we achieved an accuracy of 48%, which is significantly better than random guessing with a probability of 1/3. This indicates that our model has demonstrated some level of predictive power in forecasting climate factors. \n",
    "\n",
    "Considering the inherent complexity involved in climate forecasting, we can consider this accuracy level to be a favorable outcome. It suggests that our model has captured certain patterns and relationships within the data that contribute to accurate predictions.\n",
    "\n",
    "Furthermore, when examining the Confusion Matrix, we observed interesting patterns. In the 'Good' and 'Unhealthy' classifications, our model made the second most popular predictions within their respective categories. Additionally, we noticed minimal instances of misclassifications in the farthest categories. These findings suggest that our model's performance goes beyond what can be solely assessed based on accuracy alone.\n",
    "\n",
    "Overall, our results indicate that the random forest regression model has provided valuable insights and demonstrated promise in forecasting climate factors. Further refinement and exploration of the model could potentially enhance its predictive capabilities."
   ]
  }
 ],
 "metadata": {
  "kernelspec": {
   "display_name": "PySpark",
   "language": "",
   "name": "pysparkkernel"
  },
  "language_info": {
   "codemirror_mode": {
    "name": "python",
    "version": 3
   },
   "mimetype": "text/x-python",
   "name": "pyspark",
   "pygments_lexer": "python3"
  }
 },
 "nbformat": 4,
 "nbformat_minor": 5
}
