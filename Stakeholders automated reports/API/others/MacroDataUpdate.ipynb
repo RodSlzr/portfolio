{
 "cells": [
  {
   "cell_type": "code",
   "execution_count": 90,
   "metadata": {},
   "outputs": [],
   "source": [
    "import requests\n",
    "import pandas as pd\n",
    "import numpy as np\n",
    "import datetime\n",
    "\n",
    "import pandas as pd\n",
    "from sqlalchemy import create_engine, types\n",
    "\n",
    "oracle_connection_string = 'oracle+cx_oracle://{username}:{password}@{hostname}:{port}/{database}'\n",
    "\n",
    "engine = create_engine(\n",
    "    oracle_connection_string.format(\n",
    "        username='TEMEC',\n",
    "        password='dA1809Bj',\n",
    "        hostname='10.100.30.16',\n",
    "        port='1521',\n",
    "        database='SINEC1',\n",
    "    )\n",
    ")"
   ]
  },
  {
   "cell_type": "code",
   "execution_count": 91,
   "metadata": {},
   "outputs": [
    {
     "name": "stdout",
     "output_type": "stream",
     "text": [
      "2022\n"
     ]
    }
   ],
   "source": [
    "import datetime\n",
    "now = datetime.datetime.now()\n",
    "print(now.year)"
   ]
  },
  {
   "cell_type": "code",
   "execution_count": null,
   "metadata": {},
   "outputs": [],
   "source": [
    "double check because added year\n",
    "\n",
    "comtrade_goods\n",
    "eci\n",
    "direct_inv_fmi"
   ]
  },
  {
   "cell_type": "markdown",
   "metadata": {},
   "source": [
    "# Comtrade"
   ]
  },
  {
   "cell_type": "code",
   "execution_count": null,
   "metadata": {},
   "outputs": [],
   "source": [
    "year_update = 2020"
   ]
  },
  {
   "cell_type": "code",
   "execution_count": 22,
   "metadata": {},
   "outputs": [
    {
     "name": "stdout",
     "output_type": "stream",
     "text": [
      "added to db data from year ->  2020\n"
     ]
    }
   ],
   "source": [
    "#yearly data, db only saves most recent year?\n",
    "\n",
    "def get_comtrade_goods(engine):\n",
    "    '''\n",
    "    Downloads and saves in database MX, CAN, and USA imports and exports of goods to/from all countries\n",
    "    from most recent year\n",
    "    '''\n",
    "    \n",
    "    base = f'http://comtrade.un.org'\n",
    "    params = 'max=100000&type=C&freq=A&px=HS&ps=now&p=all&rg=1%2C2&cc=TOTAL'\n",
    "    country_code='484%2C124%2C842'\n",
    "\n",
    "    url = f'{base}/api/get?{params}&r={country_code}'\n",
    "    r = requests.get(url)\n",
    "    r = r.json()\n",
    "    df_trade = pd.DataFrame(r['dataset'])\n",
    "    df_trade['ISO_code'] = np.where(df_trade.rtCode == 124, 'CA', \n",
    "                       np.where(df_trade.rtCode == 484, 'MX', 'US'))\n",
    "    df_trade = df_trade[['yr', 'rgDesc', 'rtTitle', 'ptTitle', 'TradeValue', 'ISO_code']]\n",
    "    df_trade = df_trade.rename(columns={\"yr\": \"year\", \"rgDesc\":\"rg_desc\", \"rtTitle\":\"rt_title\", \"ptTitle\":\"pt_title\",  \"TradeValue\":\"trade_value\", \"ISO_code\":\"ISO\"})\n",
    "    \n",
    "    dtyp = {c:types.VARCHAR(df_trade[c].str.len().max())\n",
    "        for c in df_trade.columns[df_trade.dtypes == 'object'].tolist()}\n",
    "    \n",
    "    df_trade.to_sql(con=engine, name='comtrade_goods', if_exists='append', index=False, dtype=dtyp)\n",
    "    #print(df_trade.shape)\n",
    "    #print(df_trade.head())\n",
    "    print('added to db data from year -> ', df_trade.year.unique()[0])\n",
    "        \n",
    "get_comtrade_goods(engine)"
   ]
  },
  {
   "cell_type": "code",
   "execution_count": 25,
   "metadata": {},
   "outputs": [
    {
     "name": "stdout",
     "output_type": "stream",
     "text": [
      "downloading year 2020\n",
      "finish adding data to db for year ->  2020\n"
     ]
    }
   ],
   "source": [
    "# yearly data\n",
    "\n",
    "def comtrade_series_year(engine, year):\n",
    "    '''\n",
    "    Downloads and saves in database MX, CAN, and USA total imports and total exports from selected year.\n",
    "    '''\n",
    "    \n",
    "    base = f'http://comtrade.un.org'\n",
    "    params = 'max=100000&type=C&freq=A&px=HS&p=0&rg=1%2C2&cc=TOTAL'\n",
    "    country_code='484%2C124%2C842'\n",
    "    \n",
    "    df_all = None\n",
    "    print('downloading year', year)\n",
    "    url = f'{base}/api/get?{params}&r={country_code}&ps={year}'\n",
    "    r = requests.get(url)\n",
    "    r = r.json()\n",
    "    df_trade = pd.DataFrame(r['dataset'])\n",
    "    if df_trade.empty:\n",
    "        print('no data', year)\n",
    "    else:\n",
    "        df_trade['ISO_code'] = np.where(df_trade.rtCode == 124, 'CA', \n",
    "                       np.where(df_trade.rtCode == 484, 'MX', 'US'))\n",
    "        df_trade = df_trade[['yr', 'rgDesc', 'rtTitle', 'ptTitle', 'TradeValue', 'ISO_code']]\n",
    "        df_trade = df_trade.rename(columns={\"yr\": \"year\", \"rgDesc\":\"rg_desc\", \"rtTitle\":\"rt_title\", \"ptTitle\":\"pt_title\",  \"TradeValue\":\"trade_value\", \"ISO_code\":\"ISO\"})\n",
    "    \n",
    "        dtyp = {c:types.VARCHAR(df_trade[c].str.len().max())\n",
    "            for c in df_trade.columns[df_trade.dtypes == 'object'].tolist()}\n",
    "    \n",
    "        df_trade.to_sql(con=engine, name='comtrade_series_year', if_exists='append', index=False, dtype=dtyp)\n",
    "        #print(df_trade.shape)\n",
    "        #print(df_trade.head())\n",
    "        print('finished adding data to db for year -> ', year)\n",
    "    \n",
    "comtrade_series_year(engine, year_update)"
   ]
  },
  {
   "cell_type": "code",
   "execution_count": 104,
   "metadata": {},
   "outputs": [
    {
     "name": "stdout",
     "output_type": "stream",
     "text": [
      "downloading year 2020\n",
      "no data 2020\n"
     ]
    }
   ],
   "source": [
    "# yearly data\n",
    "\n",
    "def comtrade_services_year(engine, year):\n",
    "    '''\n",
    "    Downloads and saves in database MX, CAN, and USA total imports and total exports of services from 2013.\n",
    "    '''\n",
    "    \n",
    "    base = f'http://comtrade.un.org'\n",
    "    params = 'max=500&type=S&freq=A&px=EB02&r=124%2C484%2C842&p=0&rg=all&cc=200'\n",
    "    \n",
    "    df_all = None\n",
    "    print('downloading year', year)\n",
    "    url = f'{base}/api/get?{params}&ps={year}'\n",
    "    r = requests.get(url)\n",
    "    r = r.json()\n",
    "    df_trade = pd.DataFrame(r['dataset'])\n",
    "    if df_trade.empty:\n",
    "        print('no data', year)\n",
    "    else:\n",
    "        df_trade['ISO'] = np.where(df_trade.rtCode == 124, 'CA', \n",
    "                       np.where(df_trade.rtCode == 484, 'MX', 'US'))\n",
    "        df_trade = df_trade[['yr', 'rgDesc', 'rtTitle', 'ptTitle', 'TradeValue', 'ISO']]\n",
    "        df_trade = df_trade.rename(columns={\"yr\": \"year\", \"rgDesc\":\"rg_desc\", \"rtTitle\":\"rt_title\", \"ptTitle\":\"pt_title\",  \"TradeValue\":\"trade_value\"})\n",
    "        df_all = df_all.append(df_trade) if df_all is not None else df_trade\n",
    "            \n",
    "        dtyp = {c:types.VARCHAR(df_all[c].str.len().max())\n",
    "            for c in df_all.columns[df_all.dtypes == 'object'].tolist()}\n",
    "    \n",
    "        df_all.to_sql(con=engine, name='comtrade_services_year', if_exists='append', index=False, dtype=dtyp)\n",
    "        print('finished adding data to db for year -> ', year)\n",
    "        #print(df_all.shape)\n",
    "        #print(df_all.head())\n",
    "    \n",
    "comtrade_services_year(engine, 2020)"
   ]
  },
  {
   "cell_type": "code",
   "execution_count": 97,
   "metadata": {},
   "outputs": [
    {
     "name": "stdout",
     "output_type": "stream",
     "text": [
      "downloading data for date 2019\n",
      "data added to db for date ->  2019\n"
     ]
    }
   ],
   "source": [
    "#monthly data\n",
    "\n",
    "def comtrade_series_month(engine, date):\n",
    "    '''\n",
    "    Downloads and saves in database MX, CAN, and USA total imports and total exports from \n",
    "    selected date (month and year).\n",
    "    '''\n",
    "    base = f'http://comtrade.un.org'\n",
    "    params = 'max=100000&type=C&freq=M&px=HS&r=842%2C484%2C124&p=0&rg=1%2C2&cc=TOTAL'\n",
    "    \n",
    "    print('downloading data for date', date)\n",
    "    url = f'{base}/api/get?{params}&ps={date}'\n",
    "    r = requests.get(url)\n",
    "    r = r.json()\n",
    "    df = pd.DataFrame(r['dataset'])\n",
    "    if df.empty:\n",
    "        print('data not found for date ', date)\n",
    "        \n",
    "    else:\n",
    "        df.loc[:, 'month'] = df.periodDesc.str.split().str.get(0)\n",
    "        df['date'] = pd.to_datetime(df['yr'].astype(str)  + df['month'], format='%Y%B')\n",
    "        df['ISO_code'] = np.where(df.rtCode == 124, 'CA', np.where(df.rtCode == 484, 'MX', 'US'))\n",
    "        df = df.loc[:, ['yr', 'period', 'date', 'rtTitle', 'ISO_code', 'rgDesc', 'TradeValue']]\n",
    "        df = df.rename(columns={\"yr\": \"year\", \"date\":\"com_date\", \"rgDesc\":\"rg_desc\", \"rtTitle\":\"rt_title\", \n",
    "                                \"TradeValue\":\"trade_value\", \"ISO_code\":\"ISO\"})\n",
    "        \n",
    "        dtyp = {c:types.VARCHAR(df[c].str.len().max())\n",
    "            for c in df.columns[df.dtypes == 'object'].tolist()}\n",
    "    \n",
    "        df.to_sql(con=engine, name='comtrade_series_month', if_exists='append', index=False, dtype=dtyp)\n",
    "        print('data added to db for date -> ', date)\n",
    "        #print(df.shape)\n",
    "        #print(df.head())\n",
    "    \n",
    "comtrade_series_month(engine, '2019')"
   ]
  },
  {
   "cell_type": "markdown",
   "metadata": {},
   "source": [
    "# ECI"
   ]
  },
  {
   "cell_type": "code",
   "execution_count": 50,
   "metadata": {},
   "outputs": [
    {
     "name": "stdout",
     "output_type": "stream",
     "text": [
      "(3, 5)\n",
      "            country  ecirank       ECI  year ISO\n",
      "2565         Canada       44  0.569568  2019  CA\n",
      "2738         Mexico       27  1.054921  2019  MX\n",
      "2862  United States       13  1.434765  2019  US\n"
     ]
    }
   ],
   "source": [
    "#yearly data\n",
    "\n",
    "def get_eci(engine):\n",
    "    '''\n",
    "    Downloads and saves in a databas the ECI rank of all countries for the most recent year.\n",
    "    '''\n",
    "    \n",
    "    url = 'https://oec.world/olap-proxy/data.jsonrecords?cube=complexity_eci_a_hs92_hs4&drilldowns=Country,ECI+Rank,Year&measures=ECI&parents=true&sparse=false'\n",
    "    r = requests.get(url)\n",
    "    r = r.json()\n",
    "    df_eci = pd.DataFrame(r['data'])\n",
    "    eci_new = df_eci[df_eci.Year == df_eci.Year.max()]\n",
    "    eci_new = eci_new[(eci_new.Country == 'Mexico') | (eci_new.Country == 'Canada') | (eci_new.Country == 'United States')]\n",
    "    eci_new = eci_new[[\"Country\", \"ECI Rank\", \"ECI\", \"Year\"]]\n",
    "    eci_new = eci_new.rename(columns={\"Continent ID\": \"continent_id\", \n",
    "                                        \"Country ID\": \"country_id\", \n",
    "                                        \"ECI Rank\": \"ecirank\",\n",
    "                                        \"Continent\": \"continent\",\n",
    "                                        \"Country\": \"country\",\n",
    "                                        \"Year\": \"year\"})\n",
    "    eci_new['ISO'] = np.where(eci_new.country == 'Canada', 'CA', \n",
    "                       np.where(eci_new.country == 'Mexico', 'MX', 'US'))\n",
    "    \n",
    "    \n",
    "    dtyp = {c:types.VARCHAR(eci_new[c].str.len().max())\n",
    "        for c in eci_new.columns[eci_new.dtypes == 'object'].tolist()}\n",
    "    \n",
    "    eci_new.to_sql(con=engine, name='eci', if_exists='append', index=False, dtype=dtyp)\n",
    "    print(eci_new.shape)\n",
    "    print(eci_new.head())\n",
    "\n",
    "get_eci(engine)"
   ]
  },
  {
   "cell_type": "markdown",
   "metadata": {},
   "source": [
    "# World Bank Indicators"
   ]
  },
  {
   "cell_type": "code",
   "execution_count": 94,
   "metadata": {},
   "outputs": [
    {
     "name": "stdout",
     "output_type": "stream",
     "text": [
      "(72, 5)\n",
      "  ISO  year         value        ind_name        ind_code\n",
      "0  US  2020  63413.513858  GDP per capita  NY.GDP.PCAP.CD\n",
      "1  US  2019  65279.529026  GDP per capita  NY.GDP.PCAP.CD\n",
      "0  MX  2020   8329.271313  GDP per capita  NY.GDP.PCAP.CD\n",
      "1  MX  2019   9950.450080  GDP per capita  NY.GDP.PCAP.CD\n",
      "0  CA  2020  43258.176320  GDP per capita  NY.GDP.PCAP.CD\n"
     ]
    }
   ],
   "source": [
    "#yearly data\n",
    "#DELETE FROM wb_data WHERE value is null\n",
    "\n",
    "def get_wb_data(engine, year_update):\n",
    "    '''\n",
    "    Downloads and saves in a table named 'wb_data' the data from the world bank from 2013 to the most resent date\n",
    "    '''\n",
    "    \n",
    "    indicators = {'NY.GDP.PCAP.CD': 'GDP per capita',\n",
    "        'NE.IMP.GNFS.ZS': 'Imports of goods and services (% of GDP)',\n",
    "        'NE.EXP.GNFS.ZS': 'Exports of goods and services (% of GDP)',\n",
    "        'BM.GSR.MRCH.CD': 'Goods imports (BoP, current US$)',\n",
    "        'BM.GSR.NFSV.CD': 'Service imports (BoP, current US$)',\n",
    "        'BX.GSR.MRCH.CD': 'Goods exports (BoP, current US$)',\n",
    "        'BX.GSR.NFSV.CD': 'Service exports (BoP, current US$)',\n",
    "        'BN.CAB.XOKA.CD': 'Current account balance (BoP, current US$)',\n",
    "        'BN.FIN.TOTL.CD': 'Net financial account (BoP, current US$)',\n",
    "        'BN.TRF.KOGT.CD': 'Net errors and omissions (BoP, current US$)',\n",
    "        'BM.KLT.DINV.CD.WD': 'Foreign direct investment, net outflows (BoP, current US$)',\n",
    "        'BX.KLT.DINV.CD.WD': 'Foreign direct investment, net inflows (BoP, current US$)'}\n",
    "    country_codes = ['US', 'MX', 'CAN']\n",
    "    \n",
    "    df_all = None\n",
    "    for ind_code, ind_name in indicators.items():\n",
    "        for country in country_codes:\n",
    "            url = f'http://api.worldbank.org/v2/country/{country}/indicator/{ind_code}?format=json'\n",
    "            r = requests.get(url)\n",
    "            #print(r.status_code)\n",
    "            r = r.json()\n",
    "            df = pd.DataFrame(r[1])\n",
    "            df['year'] = pd.to_numeric(df['date'])\n",
    "            df = df[df.year >= year_update]\n",
    "            df['ISO'] = np.where(df.countryiso3code == 'CAN', 'CA', \n",
    "                       np.where(df.countryiso3code == 'MEX', 'MX', 'US'))\n",
    "            df = df[['ISO', 'year', 'value']]\n",
    "            df['ind_name'] = ind_name\n",
    "            df['ind_code'] = ind_code\n",
    "            df_all = df_all.append(df) if df_all is not None else df\n",
    "    \n",
    "    dtyp = {c:types.VARCHAR(df_all[c].str.len().max())\n",
    "        for c in df_all.columns[df_all.dtypes == 'object'].tolist()}\n",
    "                \n",
    "    print(df_all.shape)\n",
    "    print(df_all.head())\n",
    "    df_all.to_sql(con=engine, name='wb_data', if_exists='append', index=False, dtype=dtyp)\n",
    "    \n",
    "get_wb_data(engine, 2019)"
   ]
  },
  {
   "cell_type": "markdown",
   "metadata": {},
   "source": [
    "# FMI Foreign Investment"
   ]
  },
  {
   "cell_type": "markdown",
   "metadata": {},
   "source": [
    "Steps to update FMI table:\n",
    " \n",
    " * Go to https://data.imf.org/regular.aspx?key=61227424 and download a .xlsx for Canada, Mexico and US Inward Direct Investment top 20 counterpart.\n",
    " * Save the 3 .xslsx in the current directory with the following names: CDIS_Direct_Investment_CA.xlsx, CDIS_Direct_Investment_MX.xlsx, CDIS_Direct_Investment_US.xlsx\n",
    " * Run the function 'get_fmi_inv' using the year of the data as input\n",
    " \n",
    "Note: Last update as of end 2020"
   ]
  },
  {
   "cell_type": "code",
   "execution_count": 88,
   "metadata": {},
   "outputs": [
    {
     "name": "stdout",
     "output_type": "stream",
     "text": [
      "(126, 5)\n",
      "             partner         value ISO                            ind_name  \\\n",
      "6              World  8.131915e+11  CA  Inward Direct Investment Positions   \n",
      "7      United States  3.553057e+11  CA  Inward Direct Investment Positions   \n",
      "8   Netherlands, The  1.150459e+11  CA  Inward Direct Investment Positions   \n",
      "9     United Kingdom  5.415292e+10  CA  Inward Direct Investment Positions   \n",
      "10        Luxembourg  4.468419e+10  CA  Inward Direct Investment Positions   \n",
      "\n",
      "    year  \n",
      "6   2020  \n",
      "7   2020  \n",
      "8   2020  \n",
      "9   2020  \n",
      "10  2020  \n"
     ]
    }
   ],
   "source": [
    "def get_fmi_inv(engine, year):\n",
    "    '''\n",
    "    '''\n",
    "    \n",
    "    countries = ['CA', 'MX', 'US']\n",
    "    sheets = ['Inward Top 20', 'Outward Top 20']\n",
    "    \n",
    "    df_all = None\n",
    "    for country in countries:\n",
    "        for sheet in sheets:\n",
    "            df = pd.read_excel('CDIS_Direct_Investment_{}.xlsx'.format(country), sheet_name = sheet)\n",
    "            df = df.iloc[6:27, 0:2]\n",
    "            df = df.rename(columns={\"Unnamed: 0\": \"partner\", \"Unnamed: 1\": \"value\"})\n",
    "            df['value'] = pd.to_numeric(df['value']) * 1000000\n",
    "            df['ISO'] = country\n",
    "            name = sheet.split(' ')[0]\n",
    "            df['ind_name'] = '{} Direct Investment Positions'.format(name)\n",
    "            df['year'] = year\n",
    "            df_all = df_all.append(df) if df_all is not None else df\n",
    "            \n",
    "    dtyp = {c:types.VARCHAR(df_all[c].str.len().max())\n",
    "        for c in df_all.columns[df_all.dtypes == 'object'].tolist()}\n",
    "    \n",
    "    print(df_all.shape)\n",
    "    print(df_all.head())\n",
    "    df_all.to_sql(con=engine, name='direct_inv_fmi', if_exists='append', index=False, dtype=dtyp)\n",
    "    \n",
    "get_fmi_inv(engine, 2020)"
   ]
  },
  {
   "cell_type": "markdown",
   "metadata": {},
   "source": [
    "data from https://data.imf.org/regular.aspx?key=60564263"
   ]
  },
  {
   "cell_type": "code",
   "execution_count": 110,
   "metadata": {},
   "outputs": [
    {
     "name": "stdout",
     "output_type": "stream",
     "text": [
      "(12, 5)\n",
      "          country  year         value                            ind_name ISO\n",
      "30         Canada  2019  7.791515e+11  Inward Direct Investment Positions  CA\n",
      "31         Mexico  2019  5.677818e+11  Inward Direct Investment Positions  MX\n",
      "32  United States  2019  4.439255e+12  Inward Direct Investment Positions  US\n",
      "33         Canada  2020  8.131915e+11  Inward Direct Investment Positions  CA\n",
      "34         Mexico  2020  5.456116e+11  Inward Direct Investment Positions  MX\n"
     ]
    }
   ],
   "source": [
    "#yearly data\n",
    "\n",
    "def fmi_inv_series(engine, year_update):\n",
    "    '''\n",
    "    '''\n",
    "    \n",
    "    dic = {'Inward Direct Investment Positions' : 'CDIS_Direct_Investment_inward.xlsx',\n",
    "          'Outward Direct Investment Positions' : 'CDIS_Direct_Investment_outward.xlsx'}\n",
    "    \n",
    "    df_all = None\n",
    "    for ind, file in dic.items():\n",
    "        df = pd.read_excel(file)\n",
    "        df = df.iloc[3:]\n",
    "        df = df.rename(columns=df.iloc[0])\n",
    "        df = df.drop(df.index[0])\n",
    "        df = df.rename(columns={\"Investment in:\": \"country\", \"Investment from:\": \"country\"})\n",
    "        df = df[(df.country == 'Mexico') | (df.country == 'United States') | (df.country == 'Canada')]\n",
    "        df = df.melt(id_vars=[\"country\"], var_name=\"year\", value_name=\"value\")\n",
    "        df = df[df.year.notnull()]\n",
    "        df = df[df.year >= year_update]\n",
    "        df['value'] = df['value'] * 1000000\n",
    "        df['ind_name'] = ind\n",
    "        df['ISO'] = np.where(df.country == 'Canada', 'CA', \n",
    "                       np.where(df.country == 'Mexico', 'MX', 'US'))\n",
    "        df_all = df_all.append(df) if df_all is not None else df\n",
    "\n",
    "    print(df_all.shape)\n",
    "    print(df_all.head())\n",
    "    df_all.to_sql(con=engine, name='inv_fmi_series', if_exists='append', index=False)\n",
    "        \n",
    "fmi_inv_series(engine, 2019)"
   ]
  }
 ],
 "metadata": {
  "kernelspec": {
   "display_name": "Python 3",
   "language": "python",
   "name": "python3"
  },
  "language_info": {
   "codemirror_mode": {
    "name": "ipython",
    "version": 3
   },
   "file_extension": ".py",
   "mimetype": "text/x-python",
   "name": "python",
   "nbconvert_exporter": "python",
   "pygments_lexer": "ipython3",
   "version": "3.8.1"
  }
 },
 "nbformat": 4,
 "nbformat_minor": 4
}
