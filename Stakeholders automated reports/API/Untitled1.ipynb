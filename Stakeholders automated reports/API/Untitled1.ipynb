{
 "cells": [
  {
   "cell_type": "code",
   "execution_count": 1,
   "id": "44bf216e",
   "metadata": {},
   "outputs": [],
   "source": [
    "import math\n",
    "import os\n",
    "import random\n",
    "import re\n",
    "import sys"
   ]
  },
  {
   "cell_type": "code",
   "execution_count": 11,
   "id": "3c5935e9",
   "metadata": {},
   "outputs": [],
   "source": [
    "arr = [1,3,5,7,9]"
   ]
  },
  {
   "cell_type": "code",
   "execution_count": 12,
   "id": "72120a3f",
   "metadata": {},
   "outputs": [
    {
     "data": {
      "text/plain": [
       "'16  24'"
      ]
     },
     "execution_count": 12,
     "metadata": {},
     "output_type": "execute_result"
    }
   ],
   "source": [
    "min = arr[0]\n",
    "max = arr[0]\n",
    "tot = 0\n",
    "for a in arr:\n",
    "    tot += a\n",
    "    if a > max:\n",
    "        max = a\n",
    "    if a < min:\n",
    "        min = a\n",
    "str(tot - max) + '  ' + str(tot - min)"
   ]
  },
  {
   "cell_type": "code",
   "execution_count": 13,
   "id": "977b20cc",
   "metadata": {},
   "outputs": [],
   "source": [
    "s=\"12:01:00PM\""
   ]
  },
  {
   "cell_type": "code",
   "execution_count": 16,
   "id": "66e2c00a",
   "metadata": {},
   "outputs": [
    {
     "data": {
      "text/plain": [
       "'12:01:00'"
      ]
     },
     "execution_count": 16,
     "metadata": {},
     "output_type": "execute_result"
    }
   ],
   "source": [
    "s[:-2]"
   ]
  },
  {
   "cell_type": "code",
   "execution_count": 26,
   "id": "5a00c16a",
   "metadata": {},
   "outputs": [],
   "source": [
    "a = [1,1,2,3,4,5,6,5,4,3,6]"
   ]
  },
  {
   "cell_type": "code",
   "execution_count": 29,
   "id": "b9ab3a62",
   "metadata": {},
   "outputs": [
    {
     "name": "stdout",
     "output_type": "stream",
     "text": [
      "[1, 1, 2, 3, 3, 4, 4, 5, 5, 6, 6]\n",
      "i 0\n",
      "1\n",
      "i 1\n",
      "2\n",
      "i 2\n",
      "3\n",
      "i 3\n",
      "4\n"
     ]
    },
    {
     "data": {
      "text/plain": [
       "4"
      ]
     },
     "execution_count": 29,
     "metadata": {},
     "output_type": "execute_result"
    }
   ],
   "source": [
    "n= len(a)\n",
    "def lon(a):\n",
    "    a.sort()\n",
    "    print(a)\n",
    "    if n == 1:\n",
    "        return a[0]\n",
    "    if not a[-1] == a[-2]:\n",
    "        return a[-1]\n",
    "    for i, a_i in enumerate(a[::2]):\n",
    "        print('i',i)\n",
    "        print(a_i)\n",
    "        if not a_i == a[i + 1]:\n",
    "            return a_i\n",
    "lon(a)"
   ]
  },
  {
   "cell_type": "code",
   "execution_count": 33,
   "id": "4676bfd3",
   "metadata": {},
   "outputs": [
    {
     "name": "stdout",
     "output_type": "stream",
     "text": [
      "[[11, 2, 4], [4, 5, 6], [10, 8, -12]]\n"
     ]
    }
   ],
   "source": [
    "arr = [[11,2,4],[4,5,6,],[10,8,-12]]\n",
    "print(a)"
   ]
  },
  {
   "cell_type": "code",
   "execution_count": 37,
   "id": "3377de2f",
   "metadata": {
    "scrolled": true
   },
   "outputs": [
    {
     "name": "stdout",
     "output_type": "stream",
     "text": [
      "\n",
      "\n",
      "\n"
     ]
    },
    {
     "data": {
      "text/plain": [
       "15"
      ]
     },
     "execution_count": 37,
     "metadata": {},
     "output_type": "execute_result"
    }
   ],
   "source": [
    "n = 3\n",
    "diag_1 = 0\n",
    "diag_2 = 0\n",
    "for i in range(n):\n",
    "    diag_1 += arr[i][i]\n",
    "    \n",
    "    diag_2 += arr[i][n - 1 - i]\n",
    "    print()\n",
    "abs(diag_1 - diag_2)"
   ]
  },
  {
   "cell_type": "code",
   "execution_count": 51,
   "id": "5459ed60",
   "metadata": {},
   "outputs": [
    {
     "data": {
      "text/plain": [
       "25"
      ]
     },
     "execution_count": 51,
     "metadata": {},
     "output_type": "execute_result"
    }
   ],
   "source": [
    "ord(\"z\") - ord(\"a\")"
   ]
  },
  {
   "cell_type": "code",
   "execution_count": 45,
   "id": "a268682e",
   "metadata": {},
   "outputs": [
    {
     "data": {
      "text/plain": [
       "'A'"
      ]
     },
     "execution_count": 45,
     "metadata": {},
     "output_type": "execute_result"
    }
   ],
   "source": [
    "chr(65)"
   ]
  },
  {
   "cell_type": "code",
   "execution_count": 49,
   "id": "5f4d4c2d",
   "metadata": {},
   "outputs": [
    {
     "data": {
      "text/plain": [
       "True"
      ]
     },
     "execution_count": 49,
     "metadata": {},
     "output_type": "execute_result"
    }
   ],
   "source": [
    "\"a\" <\"b\""
   ]
  },
  {
   "cell_type": "code",
   "execution_count": 76,
   "id": "8195ab50",
   "metadata": {},
   "outputs": [],
   "source": [
    "a = [[1, 2, 4, 5],[5, 6, 7, 8], [9, 10, 11, 12], [13, 14, 15, 16]]"
   ]
  },
  {
   "cell_type": "code",
   "execution_count": 82,
   "id": "7c2a6931",
   "metadata": {},
   "outputs": [
    {
     "data": {
      "text/plain": [
       "[[1, 2, 4, 5], [5, 6, 7, 8], [9, 10, 11, 12], [13, 14, 15, 16]]"
      ]
     },
     "execution_count": 82,
     "metadata": {},
     "output_type": "execute_result"
    }
   ],
   "source": [
    "a[2:][0], a[:2][0] = a[2:][0], a[:2][0]\n",
    "a"
   ]
  },
  {
   "cell_type": "code",
   "execution_count": 92,
   "id": "da670b9e",
   "metadata": {},
   "outputs": [
    {
     "data": {
      "text/plain": [
       "[1, 2, 4, 5]"
      ]
     },
     "execution_count": 92,
     "metadata": {},
     "output_type": "execute_result"
    }
   ],
   "source": [
    "a[0:2][0]"
   ]
  },
  {
   "cell_type": "code",
   "execution_count": 100,
   "id": "b02eb16f",
   "metadata": {},
   "outputs": [
    {
     "name": "stdout",
     "output_type": "stream",
     "text": [
      "<class 'list'>\n"
     ]
    },
    {
     "data": {
      "text/plain": [
       "['a', 'a', 'd', 's', 's']"
      ]
     },
     "execution_count": 100,
     "metadata": {},
     "output_type": "execute_result"
    }
   ],
   "source": [
    "a = \"asdas\"\n",
    "b = sorted(a)\n",
    "print(type(b))\n",
    "''.join(b)"
   ]
  },
  {
   "cell_type": "code",
   "execution_count": 101,
   "id": "cfd981b7",
   "metadata": {},
   "outputs": [],
   "source": [
    "a= 123"
   ]
  },
  {
   "cell_type": "code",
   "execution_count": 103,
   "id": "93da9ed3",
   "metadata": {},
   "outputs": [],
   "source": [
    "q = [2,1,5,3,4]"
   ]
  },
  {
   "cell_type": "code",
   "execution_count": 104,
   "id": "1757e639",
   "metadata": {},
   "outputs": [
    {
     "data": {
      "text/plain": [
       "3"
      ]
     },
     "execution_count": 104,
     "metadata": {},
     "output_type": "execute_result"
    }
   ],
   "source": [
    "def minimumBribes(q):\n",
    "    # Write your code here\n",
    "    no_bribes = 0\n",
    "    for i, q_i in enumerate(q):\n",
    "        if q_i > i + 1:\n",
    "            if q_i - (i + 1) > 2:\n",
    "                return 'Too chaotic'\n",
    "            no_bribes += q_i - (i + 1)\n",
    "    return no_bribes\n",
    "minimumBribes(q)"
   ]
  },
  {
   "cell_type": "code",
   "execution_count": 105,
   "id": "f404ca82",
   "metadata": {},
   "outputs": [
    {
     "data": {
      "text/plain": [
       "3"
      ]
     },
     "execution_count": 105,
     "metadata": {},
     "output_type": "execute_result"
    }
   ],
   "source": [
    "def minimumBribes(q):\n",
    "    # Write your code here\n",
    "    no_bribes = 0\n",
    "    for i in range(n):\n",
    "        if q[i] > i + 1:\n",
    "            if q[i] - (i + 1) > 2:\n",
    "                return 'Too chaotic'\n",
    "            no_bribes += q[i] - (i + 1)\n",
    "    return no_bribes\n",
    "minimumBribes(q)"
   ]
  },
  {
   "cell_type": "code",
   "execution_count": 110,
   "id": "5bf6e2cd",
   "metadata": {},
   "outputs": [],
   "source": [
    "f = open(\"C:/Users/rodri/Downloads/trainingdata_battery.txt\")\n",
    "data = f.read()\n",
    "#print(data)"
   ]
  },
  {
   "cell_type": "code",
   "execution_count": 112,
   "id": "fc302952",
   "metadata": {},
   "outputs": [
    {
     "name": "stdout",
     "output_type": "stream",
     "text": [
      "0.1449981545806853\n"
     ]
    }
   ],
   "source": [
    "PS = [15 , 12 , 8 ,  8 ,  7 ,  7 ,  7  , 6  , 5 ,  3]\n",
    "HS = [10 , 25,  17 , 11 , 13  ,17  ,20  ,13,  9 ,  15]\n",
    "\n",
    "n = len(PS)\n",
    "PS_HS = [PS[i] * HS[i] for i in range(n)]\n",
    "PS_PS = [PS[i] * PS[i] for i in range(n)]\n",
    "HS_HS = [HS[i] * HS[i] for i in range(n)]\n",
    "\n",
    "ex_ps = sum(PS) / n\n",
    "ex_hs = sum(HS) / n\n",
    "ex_ps_hs = sum(PS_HS) / n\n",
    "ex_ps_ps = sum(PS_PS) / n\n",
    "ex_hs_hs = sum(HS_HS) / n\n",
    "\n",
    "sigma_ps = (ex_ps_ps - ex_ps ** 2) ** 0.5\n",
    "sigma_hs = (ex_hs_hs - ex_hs ** 2) ** 0.5\n",
    "sigma_ps_hs = ex_ps_hs - ex_ps * ex_hs\n",
    "\n",
    "rho = sigma_ps_hs / (sigma_ps * sigma_hs)\n",
    "print(rho)"
   ]
  },
  {
   "cell_type": "code",
   "execution_count": null,
   "id": "7728c910",
   "metadata": {},
   "outputs": [],
   "source": [
    "from sklearn.linear_model import LinearRegression\n",
    "import numpy as np\n",
    "f, n = [int(x) for x in input().split()]\n",
    "train = np.array([input().split() for _ in range(n)],float)\n",
    "t = int(input())\n",
    "test = np.array([input().split() for _ in range(t)],float)\n",
    "\n",
    "reg = LinearRegression()\n",
    "reg.fit(train[:,:-1],train[:,-1])\n",
    "pred = reg.predict(test)\n",
    "print(*pred,sep='\\n')"
   ]
  },
  {
   "cell_type": "code",
   "execution_count": 115,
   "id": "897c0cbd",
   "metadata": {},
   "outputs": [],
   "source": [
    "train_data = [[0.18, 0.89, 109.85], [1.0, 0.26, 155.72], [0.92, 0.11, 137.66],[0.07, 0.37, 76.17],[0.85, 0.16, 139.75],\n",
    "              [0.99, 0.41, 162.6],[0.87, 0.47, 151.77]]\n",
    "test_data = [[0.49, 0.18],[0.57, 0.83],[0.56, 0.64],[0.76, 0.18]]"
   ]
  },
  {
   "cell_type": "code",
   "execution_count": 116,
   "id": "6156c368",
   "metadata": {},
   "outputs": [],
   "source": [
    "from sklearn.linear_model import LinearRegression\n",
    "import numpy as np"
   ]
  },
  {
   "cell_type": "code",
   "execution_count": 121,
   "id": "3d132873",
   "metadata": {},
   "outputs": [
    {
     "data": {
      "text/plain": [
       "array([[0.18, 0.89],\n",
       "       [1.  , 0.26],\n",
       "       [0.92, 0.11],\n",
       "       [0.07, 0.37],\n",
       "       [0.85, 0.16],\n",
       "       [0.99, 0.41],\n",
       "       [0.87, 0.47]])"
      ]
     },
     "execution_count": 121,
     "metadata": {},
     "output_type": "execute_result"
    }
   ],
   "source": [
    "train_d[:,:-1]"
   ]
  },
  {
   "cell_type": "code",
   "execution_count": 124,
   "id": "554c667a",
   "metadata": {},
   "outputs": [
    {
     "name": "stdout",
     "output_type": "stream",
     "text": [
      "[105.21455835 142.67095131 132.93605469 129.70175405]\n"
     ]
    }
   ],
   "source": [
    "train_d = np.array(train_data)\n",
    "test_d = np.array(test_data)\n",
    "model = LinearRegression()\n",
    "model.fit(train_d[:,:-1], train_d[:,-1])\n",
    "pred = model.predict(test_d)\n",
    "print(pred)"
   ]
  },
  {
   "cell_type": "code",
   "execution_count": 130,
   "id": "fb379aa8",
   "metadata": {},
   "outputs": [
    {
     "data": {
      "text/plain": [
       "123"
      ]
     },
     "execution_count": 130,
     "metadata": {},
     "output_type": "execute_result"
    }
   ],
   "source": [
    "ord('{')"
   ]
  },
  {
   "cell_type": "code",
   "execution_count": 131,
   "id": "bb7291cd",
   "metadata": {},
   "outputs": [
    {
     "data": {
      "text/plain": [
       "2"
      ]
     },
     "execution_count": 131,
     "metadata": {},
     "output_type": "execute_result"
    }
   ],
   "source": [
    "1+1"
   ]
  },
  {
   "cell_type": "code",
   "execution_count": 133,
   "id": "7e1dfc41",
   "metadata": {},
   "outputs": [
    {
     "data": {
      "text/plain": [
       "{1: 1, 'a': 3}"
      ]
     },
     "execution_count": 133,
     "metadata": {},
     "output_type": "execute_result"
    }
   ],
   "source": [
    "d = {1:1, 'a':3}\n",
    "d"
   ]
  },
  {
   "cell_type": "code",
   "execution_count": 146,
   "id": "fa6db9af",
   "metadata": {},
   "outputs": [
    {
     "data": {
      "text/plain": [
       "[[-8, 3], [-8, 6]]"
      ]
     },
     "execution_count": 146,
     "metadata": {},
     "output_type": "execute_result"
    }
   ],
   "source": [
    "cd = [[-8,6],[-8,3]]\n",
    "cd.sort()\n",
    "cd"
   ]
  },
  {
   "cell_type": "code",
   "execution_count": 151,
   "id": "48e3297e",
   "metadata": {
    "scrolled": true
   },
   "outputs": [
    {
     "data": {
      "text/plain": [
       "array([['2013-01-01 00:00'],\n",
       "       ['2013-01-01 01:00'],\n",
       "       ['2013-01-01 02:00']], dtype='<U16')"
      ]
     },
     "execution_count": 151,
     "metadata": {},
     "output_type": "execute_result"
    }
   ],
   "source": [
    "train_feat = np.array(['2013-01-01 00:00', '2013-01-01 01:00', '2013-01-01 02:00'])\n",
    "train_feat.reshape(-1,1)"
   ]
  },
  {
   "cell_type": "code",
   "execution_count": 152,
   "id": "0d85b682",
   "metadata": {},
   "outputs": [],
   "source": [
    "import datetime as dt"
   ]
  },
  {
   "cell_type": "code",
   "execution_count": 159,
   "id": "dfe5595e",
   "metadata": {},
   "outputs": [
    {
     "data": {
      "text/plain": [
       "datetime.datetime(2013, 1, 1, 0, 0)"
      ]
     },
     "execution_count": 159,
     "metadata": {},
     "output_type": "execute_result"
    }
   ],
   "source": [
    "time = '2013-01-01 00:00'\n",
    "time_2 = dt.datetime.strptime(time, '%Y-%m-%d %H:%M')\n",
    "time_2"
   ]
  },
  {
   "cell_type": "code",
   "execution_count": 161,
   "id": "7db1191a",
   "metadata": {},
   "outputs": [
    {
     "data": {
      "text/plain": [
       "0"
      ]
     },
     "execution_count": 161,
     "metadata": {},
     "output_type": "execute_result"
    }
   ],
   "source": [
    "time_2.hour"
   ]
  }
 ],
 "metadata": {
  "kernelspec": {
   "display_name": "Python 3 (ipykernel)",
   "language": "python",
   "name": "python3"
  },
  "language_info": {
   "codemirror_mode": {
    "name": "ipython",
    "version": 3
   },
   "file_extension": ".py",
   "mimetype": "text/x-python",
   "name": "python",
   "nbconvert_exporter": "python",
   "pygments_lexer": "ipython3",
   "version": "3.9.7"
  }
 },
 "nbformat": 4,
 "nbformat_minor": 5
}
